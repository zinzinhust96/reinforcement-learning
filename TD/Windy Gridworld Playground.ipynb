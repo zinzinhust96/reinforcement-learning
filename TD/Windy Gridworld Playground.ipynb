{
 "cells": [
  {
   "cell_type": "code",
   "execution_count": 1,
   "metadata": {},
   "outputs": [],
   "source": [
    "import gym\n",
    "import numpy as np\n",
    "import sys\n",
    "\n",
    "if \"../\" not in sys.path:\n",
    "  sys.path.append(\"../\") \n",
    "\n",
    "from lib.envs.windy_gridworld import WindyGridworldEnv"
   ]
  },
  {
   "cell_type": "code",
   "execution_count": 6,
   "metadata": {
    "tags": []
   },
   "outputs": [
    {
     "output_type": "stream",
     "name": "stdout",
     "text": "30\no  o  o  o  o  o  o  o  o  o\no  o  o  o  o  o  o  o  o  o\no  o  o  o  o  o  o  o  o  o\nx  o  o  o  o  o  o  T  o  o\no  o  o  o  o  o  o  o  o  o\no  o  o  o  o  o  o  o  o  o\no  o  o  o  o  o  o  o  o  o\n\n(40, -1.0, False, {'prob': 1.0})\no  o  o  o  o  o  o  o  o  o\no  o  o  o  o  o  o  o  o  o\no  o  o  o  o  o  o  o  o  o\no  o  o  o  o  o  o  T  o  o\nx  o  o  o  o  o  o  o  o  o\no  o  o  o  o  o  o  o  o  o\no  o  o  o  o  o  o  o  o  o\n\n(50, -1.0, False, {'prob': 1.0})\no  o  o  o  o  o  o  o  o  o\no  o  o  o  o  o  o  o  o  o\no  o  o  o  o  o  o  o  o  o\no  o  o  o  o  o  o  T  o  o\no  o  o  o  o  o  o  o  o  o\nx  o  o  o  o  o  o  o  o  o\no  o  o  o  o  o  o  o  o  o\n\n(60, -1.0, False, {'prob': 1.0})\no  o  o  o  o  o  o  o  o  o\no  o  o  o  o  o  o  o  o  o\no  o  o  o  o  o  o  o  o  o\no  o  o  o  o  o  o  T  o  o\no  o  o  o  o  o  o  o  o  o\no  o  o  o  o  o  o  o  o  o\nx  o  o  o  o  o  o  o  o  o\n\n(61, -1.0, False, {'prob': 1.0})\no  o  o  o  o  o  o  o  o  o\no  o  o  o  o  o  o  o  o  o\no  o  o  o  o  o  o  o  o  o\no  o  o  o  o  o  o  T  o  o\no  o  o  o  o  o  o  o  o  o\no  o  o  o  o  o  o  o  o  o\no  x  o  o  o  o  o  o  o  o\n\n(62, -1.0, False, {'prob': 1.0})\no  o  o  o  o  o  o  o  o  o\no  o  o  o  o  o  o  o  o  o\no  o  o  o  o  o  o  o  o  o\no  o  o  o  o  o  o  T  o  o\no  o  o  o  o  o  o  o  o  o\no  o  o  o  o  o  o  o  o  o\no  o  x  o  o  o  o  o  o  o\n\n(63, -1.0, False, {'prob': 1.0})\no  o  o  o  o  o  o  o  o  o\no  o  o  o  o  o  o  o  o  o\no  o  o  o  o  o  o  o  o  o\no  o  o  o  o  o  o  T  o  o\no  o  o  o  o  o  o  o  o  o\no  o  o  o  o  o  o  o  o  o\no  o  o  x  o  o  o  o  o  o\n\n(54, -1.0, False, {'prob': 1.0})\no  o  o  o  o  o  o  o  o  o\no  o  o  o  o  o  o  o  o  o\no  o  o  o  o  o  o  o  o  o\no  o  o  o  o  o  o  T  o  o\no  o  o  o  o  o  o  o  o  o\no  o  o  o  x  o  o  o  o  o\no  o  o  o  o  o  o  o  o  o\n\n(45, -1.0, False, {'prob': 1.0})\no  o  o  o  o  o  o  o  o  o\no  o  o  o  o  o  o  o  o  o\no  o  o  o  o  o  o  o  o  o\no  o  o  o  o  o  o  T  o  o\no  o  o  o  o  x  o  o  o  o\no  o  o  o  o  o  o  o  o  o\no  o  o  o  o  o  o  o  o  o\n\n(36, -1.0, False, {'prob': 1.0})\no  o  o  o  o  o  o  o  o  o\no  o  o  o  o  o  o  o  o  o\no  o  o  o  o  o  o  o  o  o\no  o  o  o  o  o  x  T  o  o\no  o  o  o  o  o  o  o  o  o\no  o  o  o  o  o  o  o  o  o\no  o  o  o  o  o  o  o  o  o\n\n(17, -1.0, False, {'prob': 1.0})\no  o  o  o  o  o  o  o  o  o\no  o  o  o  o  o  o  x  o  o\no  o  o  o  o  o  o  o  o  o\no  o  o  o  o  o  o  T  o  o\no  o  o  o  o  o  o  o  o  o\no  o  o  o  o  o  o  o  o  o\no  o  o  o  o  o  o  o  o  o\n\n"
    }
   ],
   "source": [
    "env = WindyGridworldEnv()\n",
    "\n",
    "print(env.reset())\n",
    "env.render()\n",
    "\n",
    "print(env.step(2))\n",
    "env.render()\n",
    "\n",
    "print(env.step(2))\n",
    "env.render()\n",
    "\n",
    "print(env.step(2))\n",
    "env.render()\n",
    "\n",
    "print(env.step(1))\n",
    "env.render()\n",
    "\n",
    "print(env.step(1))\n",
    "env.render()\n",
    "\n",
    "print(env.step(1))\n",
    "env.render()\n",
    "\n",
    "print(env.step(1))\n",
    "env.render()\n",
    "\n",
    "print(env.step(1))\n",
    "env.render()\n",
    "\n",
    "print(env.step(1))\n",
    "env.render()\n",
    "\n",
    "print(env.step(1))\n",
    "env.render()"
   ]
  },
  {
   "cell_type": "code",
   "execution_count": 4,
   "metadata": {},
   "outputs": [
    {
     "output_type": "execute_result",
     "data": {
      "text/plain": "Discrete(70)"
     },
     "metadata": {},
     "execution_count": 4
    }
   ],
   "source": [
    "env.action_space\n",
    "env.observation_space"
   ]
  },
  {
   "cell_type": "code",
   "execution_count": null,
   "metadata": {},
   "outputs": [],
   "source": []
  }
 ],
 "metadata": {
  "kernelspec": {
   "display_name": "Python 3.6.10 64-bit ('rl': conda)",
   "language": "python",
   "name": "python361064bitrlcondac0b1c4ff9db246d48903580986b57af2"
  },
  "language_info": {
   "codemirror_mode": {
    "name": "ipython",
    "version": 3
   },
   "file_extension": ".py",
   "mimetype": "text/x-python",
   "name": "python",
   "nbconvert_exporter": "python",
   "pygments_lexer": "ipython3",
   "version": "3.6.10-final"
  }
 },
 "nbformat": 4,
 "nbformat_minor": 1
}